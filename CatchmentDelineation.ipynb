{
 "cells": [
  {
   "cell_type": "code",
   "execution_count": 1,
   "id": "19eb5d92-e18b-40db-b1ea-1a2842a03873",
   "metadata": {},
   "outputs": [],
   "source": [
    "from pyproj import CRS\n",
    "from pysheds.grid import Grid\n",
    "from osgeo import gdal\n",
    "import matplotlib.pyplot as plt\n",
    "import matplotlib.colors as colors"
   ]
  },
  {
   "cell_type": "code",
   "execution_count": 2,
   "id": "73083916-7561-4743-aa76-bb65df2aefcf",
   "metadata": {},
   "outputs": [],
   "source": [
    "# function for plotting maps\n",
    "def plotFigure(data, label, cmap = 'Blues'):\n",
    "    plt.figure(figsize=(12,12))\n",
    "    plt.imshow(data, extent=grid.extent, cmap=cmap)\n",
    "    plt.colorbar(label = label)\n",
    "    plt.grid()"
   ]
  },
  {
   "cell_type": "code",
   "execution_count": 43,
   "id": "4694290d-4f59-4768-98a4-2e4a5dccecdc",
   "metadata": {},
   "outputs": [],
   "source": [
    "# Import global water table elevation raster\n",
    "# wt_dem = gdal.Open('D:/!! Geodatabase/Groundwater/Fan_depthtowatertable/Processed/WT_elevation.tif')"
   ]
  },
  {
   "cell_type": "code",
   "execution_count": 46,
   "id": "4d9e2521-7bd6-453a-91a6-e2c1724cf7da",
   "metadata": {},
   "outputs": [],
   "source": [
    "# set bounding box\n",
    "xmin, xmax = np.rint(x-10), np.rint(x+10)\n",
    "ymin, ymax = np.rint(y-10), np.rint(y+10)"
   ]
  },
  {
   "cell_type": "code",
   "execution_count": 70,
   "id": "671c403f-ae02-4431-8e61-c2d209c4d339",
   "metadata": {},
   "outputs": [],
   "source": [
    "# Crop global elevation raster to bounding box around pour point and import and pysheds.grid object\n",
    "# gdal.Translate('D:/!! Geodatabase/Groundwater/Groundwatersheds/Temp-DWTM/temp_clip.tif', wt_dem, projWin = [xmin, ymax, xmax, ymin])\n",
    "# grid = Grid.from_raster('D:/!! Geodatabase/Groundwater/Groundwatersheds/Temp-DWTM/temp_clip.tif', data_name = 'dem')"
   ]
  },
  {
   "cell_type": "code",
   "execution_count": 81,
   "id": "0deea93c-1e0b-4d59-9af4-1eecb3832c00",
   "metadata": {},
   "outputs": [],
   "source": [
    "# Import DEM\n",
    "grid = Grid.from_raster('./temp_clip.tif', data_name = 'dem')"
   ]
  },
  {
   "cell_type": "code",
   "execution_count": 83,
   "id": "1074df73-43a3-4256-823f-d70e4c50e7de",
   "metadata": {},
   "outputs": [],
   "source": [
    "grid.flowdir('dem', out_name='dir') # ive tried filling sinks & fixing flats - doesn't make a difference"
   ]
  },
  {
   "cell_type": "code",
   "execution_count": 84,
   "id": "b9e99ab3-9022-4362-a3e8-c2ea29527384",
   "metadata": {},
   "outputs": [],
   "source": [
    "# define direction map\n",
    "dirmap = (64, 128, 1, 2, 4, 8, 16, 32)"
   ]
  },
  {
   "cell_type": "code",
   "execution_count": 85,
   "id": "01fd2a9a-6e73-424a-b101-6f8cde08a8b3",
   "metadata": {},
   "outputs": [],
   "source": [
    "# specify pour point\n",
    "x, y = -100, 50 # arbitrary"
   ]
  },
  {
   "cell_type": "code",
   "execution_count": 86,
   "id": "c5fca2dd-d139-43e2-be02-bfcd6d08e51f",
   "metadata": {},
   "outputs": [],
   "source": [
    "grid.catchment(data='dir', x=x, y=y, dirmap=dirmap, out_name='catch',\n",
    "               recursionlimit=15000, xytype='label')"
   ]
  },
  {
   "cell_type": "code",
   "execution_count": 87,
   "id": "d4eebf11-a106-4a21-8c9e-88353ff56f7f",
   "metadata": {},
   "outputs": [
    {
     "data": {
      "text/plain": [
       "Raster([[4],\n",
       "        [4],\n",
       "        [4],\n",
       "        [4],\n",
       "        [4],\n",
       "        [4],\n",
       "        [4],\n",
       "        [4],\n",
       "        [4],\n",
       "        [4],\n",
       "        [4],\n",
       "        [4],\n",
       "        [4]])"
      ]
     },
     "execution_count": 87,
     "metadata": {},
     "output_type": "execute_result"
    }
   ],
   "source": [
    "grid.clip_to('catch')\n",
    "#plt.imshow(grid.view('catch'))\n",
    "grid.view('catch')"
   ]
  },
  {
   "cell_type": "code",
   "execution_count": 88,
   "id": "59e8f584-e82a-43ba-b288-d178628716b4",
   "metadata": {},
   "outputs": [
    {
     "data": {
      "image/png": "[encoded data removed]",
      "text/plain": [
       "<Figure size 864x864 with 2 Axes>"
      ]
     },
     "metadata": {
      "needs_background": "light"
     },
     "output_type": "display_data"
    }
   ],
   "source": [
    "plotFigure(grid.catch, label = 'dem', cmap = 'viridis')"
   ]
  },
  {
   "cell_type": "code",
   "execution_count": null,
   "id": "7cf1ac45-3108-450f-8378-b30a624f07af",
   "metadata": {},
   "outputs": [],
   "source": []
  }
 ],
 "metadata": {
  "kernelspec": {
   "display_name": "Python 3",
   "language": "python",
   "name": "python3"
  },
  "language_info": {
   "codemirror_mode": {
    "name": "ipython",
    "version": 3
   },
   "file_extension": ".py",
   "mimetype": "text/x-python",
   "name": "python",
   "nbconvert_exporter": "python",
   "pygments_lexer": "ipython3",
   "version": "3.8.10"
  }
 },
 "nbformat": 4,
 "nbformat_minor": 5
}
